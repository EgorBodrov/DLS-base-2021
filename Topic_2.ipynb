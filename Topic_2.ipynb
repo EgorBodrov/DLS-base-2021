{
 "cells": [
  {
   "cell_type": "markdown",
   "metadata": {},
   "source": [
    "## Numpy и линейная алгебра"
   ]
  },
  {
   "cell_type": "code",
   "execution_count": 7,
   "metadata": {},
   "outputs": [],
   "source": [
    "import numpy as np"
   ]
  },
  {
   "cell_type": "markdown",
   "metadata": {},
   "source": [
    "***Перемножение матриц***"
   ]
  },
  {
   "cell_type": "code",
   "execution_count": 20,
   "metadata": {},
   "outputs": [
    {
     "data": {
      "text/plain": [
       "[[5, 26], [10, 27]]"
      ]
     },
     "execution_count": 20,
     "metadata": {},
     "output_type": "execute_result"
    }
   ],
   "source": [
    "def no_numpy_mult(first, second: list):\n",
    "    res = [[0] * len(second[0]) for i in range(len(first))]\n",
    "    for row_index in range(len(first)):\n",
    "        for col_index in range(len(second[0])):\n",
    "            col_to_mul = [i[col_index] for i in second]\n",
    "            res[row_index][col_index] = sum(list(map(lambda x, y: x * y,\n",
    "                                     first[row_index], col_to_mul)))\n",
    "    return res\n",
    "    \n",
    "    \n",
    "def numpy_mult(first, second):\n",
    "    return np.dot(first, second)\n",
    "\n",
    "\n",
    "no_numpy_mult([[1, 4], [2, 3]], [[5, 6], [0, 5]])"
   ]
  },
  {
   "cell_type": "markdown",
   "metadata": {},
   "source": [
    "***Скалярное произведение векторов в трехмерном пространстве***"
   ]
  },
  {
   "cell_type": "code",
   "execution_count": 24,
   "metadata": {},
   "outputs": [
    {
     "name": "stdout",
     "output_type": "stream",
     "text": [
      "25\n",
      "25\n"
     ]
    }
   ],
   "source": [
    "def no_numpy_scalar(v1, v2):\n",
    "    return sum(list(map(lambda x, y: x * y, v1, v2)))\n",
    "    \n",
    "\n",
    "def numpy_scalar (v1, v2):\n",
    "    return np.dot(v1, v2)\n",
    "    \n",
    "\n",
    "a = [1, 3, 0]\n",
    "b = [10, 5, 5]\n",
    "print(numpy_scalar(a, b))\n",
    "print(no_numpy_scalar(a, b))"
   ]
  },
  {
   "cell_type": "markdown",
   "metadata": {},
   "source": [
    "***Сумма четных элементов на главной диагонали квадратной матрицы***"
   ]
  },
  {
   "cell_type": "code",
   "execution_count": 32,
   "metadata": {},
   "outputs": [
    {
     "name": "stdout",
     "output_type": "stream",
     "text": [
      "6\n"
     ]
    }
   ],
   "source": [
    "def diag_2k(a):\n",
    "    return np.sum(a.diagonal()[a.diagonal() % 2 == 0])\n",
    "    \n",
    "    # OR\n",
    "    # return np.sum([x for x in a.diagonal() if x % 2 == 0])\n",
    "\n",
    "a = np.array([[2, 3], [1, 4]])\n",
    "print(diag_2k(a))"
   ]
  },
  {
   "cell_type": "markdown",
   "metadata": {},
   "source": [
    "***Двумерный массив из двумерного массива***"
   ]
  },
  {
   "cell_type": "code",
   "execution_count": 42,
   "metadata": {},
   "outputs": [
    {
     "name": "stdout",
     "output_type": "stream",
     "text": [
      "[[1 2 3]\n",
      " [4 5 6]\n",
      " [7 8 9]]\n",
      "\n",
      "[[ 1  3  6]\n",
      " [ 4  9 15]\n",
      " [ 7 15 24]]\n"
     ]
    }
   ],
   "source": [
    "def cumsum(A):\n",
    "    return np.cumsum(A, axis=1)\n",
    "\n",
    "    # OR\n",
    "    #return np.array([np.cumsum(row, axis=0) for row in A])\n",
    "\n",
    "    \n",
    "a = np.array([[1, 2, 3], [4, 5, 6], [7, 8, 9]])\n",
    "print(a, end='\\n\\n')\n",
    "print(cumsum(a))"
   ]
  },
  {
   "cell_type": "markdown",
   "metadata": {},
   "source": [
    "***Склеивание***"
   ]
  },
  {
   "cell_type": "code",
   "execution_count": 95,
   "metadata": {},
   "outputs": [
    {
     "data": {
      "text/plain": [
       "array([[      100,       200,       300,       400,       500, 125000000,\n",
       "                1,  27000000,         1,   1000000]])"
      ]
     },
     "execution_count": 95,
     "metadata": {},
     "output_type": "execute_result"
    }
   ],
   "source": [
    "def transform(X, a=1):\n",
    "    Y = np.copy(X)    \n",
    "    Y[:, 1::2] = a\n",
    "    Y[:, ::2] = Y[:, ::2] ** 3\n",
    "    Y = Y[:, ::-1]\n",
    "    return np.append(X, Y, axis=1)\n",
    "    \n",
    "x = np.array([[100, 200, 300, 400, 500]])\n",
    "transform(x)"
   ]
  },
  {
   "cell_type": "markdown",
   "metadata": {},
   "source": [
    "***Run-length encoding***"
   ]
  },
  {
   "cell_type": "code",
   "execution_count": 136,
   "metadata": {},
   "outputs": [
    {
     "data": {
      "text/plain": [
       "(array([1, 2, 3, 1, 5, 2, 3]), array([1, 2, 2, 2, 2, 1, 2]))"
      ]
     },
     "execution_count": 136,
     "metadata": {},
     "output_type": "execute_result"
    }
   ],
   "source": [
    "def encode(a):\n",
    "    nums = np.array([], dtype=\"int32\") \n",
    "    count = np.array([], dtype=\"int32\")\n",
    "    start = 0\n",
    "    while start < len(a) - 1:\n",
    "        end = start + 1\n",
    "        while end < len(a) and a[end - 1] == a[end]:\n",
    "            end += 1\n",
    "        tmp = a[start:end]\n",
    "        nums = np.append(nums, tmp[0])\n",
    "        count = np.append(count, len(tmp))\n",
    "        start = end\n",
    "    return (nums, count)\n",
    "        \n",
    "        \n",
    "encode(np.array([1, 2, 2, 3, 3, 1, 1, 5, 5, 2, 3, 3]))"
   ]
  },
  {
   "cell_type": "code",
   "execution_count": null,
   "metadata": {},
   "outputs": [],
   "source": []
  }
 ],
 "metadata": {
  "kernelspec": {
   "display_name": "Python 3",
   "language": "python",
   "name": "python3"
  },
  "language_info": {
   "codemirror_mode": {
    "name": "ipython",
    "version": 3
   },
   "file_extension": ".py",
   "mimetype": "text/x-python",
   "name": "python",
   "nbconvert_exporter": "python",
   "pygments_lexer": "ipython3",
   "version": "3.8.3"
  }
 },
 "nbformat": 4,
 "nbformat_minor": 4
}

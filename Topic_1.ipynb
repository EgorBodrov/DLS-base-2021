{
 "cells": [
  {
   "cell_type": "markdown",
   "metadata": {},
   "source": [
    "## Задачи базового потока DLS"
   ]
  },
  {
   "cell_type": "markdown",
   "metadata": {},
   "source": [
    "***Почти двойной интеграл***"
   ]
  },
  {
   "cell_type": "code",
   "execution_count": 2,
   "metadata": {},
   "outputs": [
    {
     "name": "stdout",
     "output_type": "stream",
     "text": [
      "1\n",
      "15\n",
      "945\n"
     ]
    }
   ],
   "source": [
    "from functools import reduce\n",
    "def almost_double_factorial(n):\n",
    "    if n == 0:\n",
    "        return 1\n",
    "    odd_numbers = [x for x in range(n  + 1) if x % 2 == 1]\n",
    "    return reduce(lambda x, y: x * y, odd_numbers)\n",
    "\n",
    "\n",
    "print(almost_double_factorial(0))\n",
    "print(almost_double_factorial(5))\n",
    "print(almost_double_factorial(10))"
   ]
  },
  {
   "cell_type": "markdown",
   "metadata": {},
   "source": [
    "***Хитрая сортировка***"
   ]
  },
  {
   "cell_type": "code",
   "execution_count": 9,
   "metadata": {},
   "outputs": [
    {
     "data": {
      "text/plain": [
       "[('string', 'a'), ('one', 'two'), ('three', 'four'), ('five', 'six')]"
      ]
     },
     "execution_count": 9,
     "metadata": {},
     "output_type": "execute_result"
    }
   ],
   "source": [
    "items = [('one', 'two'), ('three', 'four'), ('five', 'six'), ('string', 'a')]\n",
    "sorted_items = sorted(items, key=lambda x: x[1][-1])\n",
    "sorted_items"
   ]
  },
  {
   "cell_type": "markdown",
   "metadata": {},
   "source": [
    "***Слайсы***"
   ]
  },
  {
   "cell_type": "code",
   "execution_count": 14,
   "metadata": {},
   "outputs": [
    {
     "data": {
      "text/plain": [
       "[-5, 2, -3, 4, -1]"
      ]
     },
     "execution_count": 14,
     "metadata": {},
     "output_type": "execute_result"
    }
   ],
   "source": [
    "x = [1, 2, 3, 4, 5]\n",
    "x[::-2] = [-1, -3, -5]\n",
    "x"
   ]
  },
  {
   "cell_type": "markdown",
   "metadata": {},
   "source": [
    "***Создание массивов***"
   ]
  },
  {
   "cell_type": "code",
   "execution_count": 19,
   "metadata": {},
   "outputs": [
    {
     "data": {
      "text/plain": [
       "[5, 6, 15, 29]"
      ]
     },
     "execution_count": 19,
     "metadata": {},
     "output_type": "execute_result"
    }
   ],
   "source": [
    "def cumsum_and_erase(a: list, erase=1):\n",
    "    b = [sum(a[:x+1]) for x in range(len(a))]\n",
    "    c = list(filter(lambda x: x != erase, b))\n",
    "    return c\n",
    "    \n",
    "    \n",
    "A = [5, 1, 4, 5, 14] \n",
    "B = cumsum_and_erase(A, erase=10) \n",
    "B"
   ]
  },
  {
   "cell_type": "markdown",
   "metadata": {},
   "source": [
    "***Обработка текста***"
   ]
  },
  {
   "cell_type": "code",
   "execution_count": 32,
   "metadata": {},
   "outputs": [
    {
     "data": {
      "text/plain": [
       "['thousand devils', 'My name is', 'Room costs', '']"
      ]
     },
     "execution_count": 32,
     "metadata": {},
     "output_type": "execute_result"
    }
   ],
   "source": [
    "def process(sentences: list):\n",
    "    res = []\n",
    "    for string in sentences:\n",
    "        correct = [x for x in string.split() if x.isalpha()]\n",
    "        res.append(' '.join(correct))\n",
    "    return res\n",
    "\n",
    "    # OR MORE SIMPLE WAY, BUT LESS READABLE\n",
    "    # return [' '.join([x for x in words.split() if x.isalpha()]) \n",
    "    #         for words in sentences]\n",
    "    \n",
    "    \n",
    "a = ['1 thousand devils', 'My name is 9Pasha', 'Room #125 costs $100', '888']\n",
    "process(a)"
   ]
  },
  {
   "cell_type": "markdown",
   "metadata": {},
   "source": [
    "***Собственный класс \"Нейрон\"***"
   ]
  },
  {
   "cell_type": "code",
   "execution_count": 42,
   "metadata": {},
   "outputs": [
    {
     "name": "stdout",
     "output_type": "stream",
     "text": [
      "12\n",
      "[2, 2, 2]\n"
     ]
    }
   ],
   "source": [
    "class Neuron:\n",
    "\n",
    "    def __init__(self, w, f = lambda x: x):\n",
    "        self.w = w[:]\n",
    "        self.f = f\n",
    "        self.x = None\n",
    "        \n",
    "    def forward(self, x):\n",
    "        self.x = x[:]\n",
    "        res = list(map(lambda i, j: i * j, self.w, self.x))\n",
    "        return self.f(sum(res))\n",
    "        \n",
    "        # Or less elegant way\n",
    "        # self.x = x[:]\n",
    "        # pairs = zip(x, self.w)\n",
    "        # return self.f(sum([pair[0] * pair[1] for pair in pairs])) \n",
    "        \n",
    "        \n",
    "    def backlog(self):\n",
    "        return self.x\n",
    "        \n",
    "        \n",
    "a = Neuron([1, 2, 3])\n",
    "print(a.forward([2, 2, 2]))\n",
    "print(a.backlog())"
   ]
  }
 ],
 "metadata": {
  "kernelspec": {
   "display_name": "Python 3",
   "language": "python",
   "name": "python3"
  },
  "language_info": {
   "codemirror_mode": {
    "name": "ipython",
    "version": 3
   },
   "file_extension": ".py",
   "mimetype": "text/x-python",
   "name": "python",
   "nbconvert_exporter": "python",
   "pygments_lexer": "ipython3",
   "version": "3.8.3"
  }
 },
 "nbformat": 4,
 "nbformat_minor": 4
}
